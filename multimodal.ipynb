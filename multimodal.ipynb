{
 "cells": [
  {
   "cell_type": "code",
   "execution_count": 2,
   "metadata": {},
   "outputs": [],
   "source": [
    "import os\n",
    "import torch\n",
    "import train\n",
    "import ml4gw\n",
    "import train.priors\n",
    "import train.data.datasets.flow\n",
    "import train.data.waveforms.generator.cbc\n",
    "import ml4gw.waveforms \n",
    "import ml4gw.distributions\n",
    "import ml4gw.transforms\n",
    "import ml4gw.dataloading\n",
    "from pathlib import Path"
   ]
  },
  {
   "cell_type": "code",
   "execution_count": 3,
   "metadata": {},
   "outputs": [],
   "source": [
    "dec = ml4gw.distributions.Cosine()\n",
    "psi = torch.distributions.Uniform(0, 3.14)\n",
    "phi = torch.distributions.Uniform(-3.14, 3.14)\n",
    "waveform_sampler = train.data.waveforms.generator.cbc.FrequencyDomainCBCGenerator(\n",
    "    approximant=ml4gw.waveforms.IMRPhenomD(),\n",
    "    f_min=20,\n",
    "    f_max=1024,\n",
    "    waveform_arguments={'f_ref': 40},\n",
    "    num_test_waveforms=1,\n",
    "    num_val_waveforms=1,\n",
    "    parameter_sampler=train.priors.cbc_prior,\n",
    "    num_fit_params=100000,\n",
    "    inference_params=[\"chirp_mass\", \"mass_ratio\", \"distance\", \"phic\",  \"inclination\", \"dec\", \"psi\", \"phi\"],\n",
    "    sample_rate=2048,\n",
    "    dec=dec,\n",
    "    psi=psi,\n",
    "    phi=phi, \n",
    "    duration=10)\n",
    "\n",
    "datamodule = train.data.datasets.flow.FlowDataset(\n",
    "    data_dir=Path(os.environ[\"AMPLFI_DATADIR\"]),\n",
    "    inference_params=[\"chirp_mass\", \"mass_ratio\", \"distance\", \"phic\",  \"inclination\", \"dec\", \"psi\", \"phi\"],\n",
    "    highpass=25,\n",
    "    sample_rate=2048,\n",
    "    kernel_length=3,\n",
    "    fduration=1,\n",
    "    psd_length=10,\n",
    "    fftlength=2,\n",
    "    batches_per_epoch=1,\n",
    "    batch_size=1,\n",
    "    ifos=[\"H1\", \"L1\"],\n",
    "    min_valid_duration=10000.0,\n",
    "    waveform_sampler=waveform_sampler,\n",
    ")"
   ]
  },
  {
   "cell_type": "code",
   "execution_count": 28,
   "metadata": {},
   "outputs": [
    {
     "name": "stdout",
     "output_type": "stream",
     "text": [
      "2024-09-06 04:52:45,586 - AmplfiDataset - INFO - Building torch Modules and transferring to device\n",
      "2024-09-06 04:52:45,591 - AmplfiDataset - INFO - Fitting standard scaler to parameters\n"
     ]
    },
    {
     "ename": "RuntimeError",
     "evalue": "The size of tensor a (8192) must match the size of tensor b (402) at non-singleton dimension 2",
     "output_type": "error",
     "traceback": [
      "\u001b[0;31m---------------------------------------------------------------------------\u001b[0m",
      "\u001b[0;31mRuntimeError\u001b[0m                              Traceback (most recent call last)",
      "Cell \u001b[0;32mIn[28], line 20\u001b[0m\n\u001b[1;32m     17\u001b[0m X\u001b[38;5;241m.\u001b[39mto(\u001b[38;5;124m\"\u001b[39m\u001b[38;5;124mcuda\u001b[39m\u001b[38;5;124m\"\u001b[39m)\n\u001b[1;32m     19\u001b[0m cross, plus, parameters \u001b[38;5;241m=\u001b[39m datamodule\u001b[38;5;241m.\u001b[39mwaveform_sampler\u001b[38;5;241m.\u001b[39msample(X)\n\u001b[0;32m---> 20\u001b[0m strain, parameters \u001b[38;5;241m=\u001b[39m \u001b[43mdatamodule\u001b[49m\u001b[38;5;241;43m.\u001b[39;49m\u001b[43minject\u001b[49m\u001b[43m(\u001b[49m\u001b[43mX\u001b[49m\u001b[43m,\u001b[49m\u001b[43m \u001b[49m\u001b[43mcross\u001b[49m\u001b[43m,\u001b[49m\u001b[43m \u001b[49m\u001b[43mplus\u001b[49m\u001b[43m,\u001b[49m\u001b[43m \u001b[49m\u001b[43mparameters\u001b[49m\u001b[43m)\u001b[49m\n",
      "File \u001b[0;32m~/Documents/ligo/amplfi/projects/train/train/data/datasets/flow.py:31\u001b[0m, in \u001b[0;36mFlowDataset.inject\u001b[0;34m(self, X, cross, plus, parameters)\u001b[0m\n\u001b[1;32m     27\u001b[0m parameters \u001b[38;5;241m=\u001b[39m [\n\u001b[1;32m     28\u001b[0m     torch\u001b[38;5;241m.\u001b[39mTensor(parameters[k]) \u001b[38;5;28;01mfor\u001b[39;00m k \u001b[38;5;129;01min\u001b[39;00m \u001b[38;5;28mself\u001b[39m\u001b[38;5;241m.\u001b[39mhparams\u001b[38;5;241m.\u001b[39minference_params\n\u001b[1;32m     29\u001b[0m ]\n\u001b[1;32m     30\u001b[0m parameters \u001b[38;5;241m=\u001b[39m torch\u001b[38;5;241m.\u001b[39mvstack(parameters)\u001b[38;5;241m.\u001b[39mT\n\u001b[0;32m---> 31\u001b[0m X \u001b[38;5;241m+\u001b[39m\u001b[38;5;241m=\u001b[39m waveforms\n\u001b[1;32m     32\u001b[0m X \u001b[38;5;241m=\u001b[39m \u001b[38;5;28mself\u001b[39m\u001b[38;5;241m.\u001b[39mwhitener(X, psds)\n\u001b[1;32m     34\u001b[0m \u001b[38;5;66;03m# scale parameters\u001b[39;00m\n",
      "\u001b[0;31mRuntimeError\u001b[0m: The size of tensor a (8192) must match the size of tensor b (402) at non-singleton dimension 2"
     ]
    }
   ],
   "source": [
    "world_size, rank = datamodule.get_world_size_and_rank()\n",
    "[background] = datamodule.load_background([datamodule.train_fnames[0]])\n",
    "datamodule._logger = datamodule.get_logger(world_size, rank)\n",
    "datamodule.build_transforms(\"fit\")\n",
    "dataset = ml4gw.dataloading.InMemoryDataset(\n",
    "                background,\n",
    "                kernel_size=int(datamodule.hparams.sample_rate * datamodule.sample_length),\n",
    "                batch_size=datamodule.hparams.batch_size,\n",
    "                coincident=False,\n",
    "                batches_per_epoch=datamodule.hparams.batches_per_epoch,\n",
    "                shuffle=True,\n",
    "            )\n",
    "dataloader = torch.utils.data.DataLoader(\n",
    "            dataset, num_workers=2\n",
    "        )\n",
    "[X] = next(iter(dataloader))\n",
    "X.to(\"cuda\")\n",
    "\n",
    "cross, plus, parameters = datamodule.waveform_sampler.sample(X)\n",
    "strain, parameters = datamodule.inject(X, cross, plus, parameters)"
   ]
  },
  {
   "cell_type": "code",
   "execution_count": 29,
   "metadata": {},
   "outputs": [
    {
     "ename": "RuntimeError",
     "evalue": "split_with_sizes expects split_sizes have only non-negative entries, but got split_sizes=[-7790, 8192]",
     "output_type": "error",
     "traceback": [
      "\u001b[0;31m---------------------------------------------------------------------------\u001b[0m",
      "\u001b[0;31mRuntimeError\u001b[0m                              Traceback (most recent call last)",
      "Cell \u001b[0;32mIn[29], line 3\u001b[0m\n\u001b[1;32m      1\u001b[0m \u001b[38;5;66;03m# make tensors in x same length as cross tensor\u001b[39;00m\n\u001b[1;32m      2\u001b[0m [X] \u001b[38;5;241m=\u001b[39m X[:, :, :cross\u001b[38;5;241m.\u001b[39mshape[\u001b[38;5;241m-\u001b[39m\u001b[38;5;241m1\u001b[39m]]\n\u001b[0;32m----> 3\u001b[0m strain, parameters \u001b[38;5;241m=\u001b[39m \u001b[43mdatamodule\u001b[49m\u001b[38;5;241;43m.\u001b[39;49m\u001b[43minject\u001b[49m\u001b[43m(\u001b[49m\u001b[43mX\u001b[49m\u001b[43m,\u001b[49m\u001b[43m \u001b[49m\u001b[43mcross\u001b[49m\u001b[43m,\u001b[49m\u001b[43m \u001b[49m\u001b[43mplus\u001b[49m\u001b[43m,\u001b[49m\u001b[43m \u001b[49m\u001b[43mparameters\u001b[49m\u001b[43m)\u001b[49m\n",
      "File \u001b[0;32m~/Documents/ligo/amplfi/projects/train/train/data/datasets/flow.py:12\u001b[0m, in \u001b[0;36mFlowDataset.inject\u001b[0;34m(self, X, cross, plus, parameters)\u001b[0m\n\u001b[1;32m     11\u001b[0m \u001b[38;5;28;01mdef\u001b[39;00m \u001b[38;5;21minject\u001b[39m(\u001b[38;5;28mself\u001b[39m, X, cross, plus, parameters):\n\u001b[0;32m---> 12\u001b[0m     X, psds \u001b[38;5;241m=\u001b[39m \u001b[38;5;28;43mself\u001b[39;49m\u001b[38;5;241;43m.\u001b[39;49m\u001b[43mpsd_estimator\u001b[49m\u001b[43m(\u001b[49m\u001b[43mX\u001b[49m\u001b[43m)\u001b[49m\n\u001b[1;32m     13\u001b[0m     dec, psi, phi \u001b[38;5;241m=\u001b[39m \u001b[38;5;28mself\u001b[39m\u001b[38;5;241m.\u001b[39mwaveform_sampler\u001b[38;5;241m.\u001b[39msample_extrinsic(X)\n\u001b[1;32m     14\u001b[0m     waveforms \u001b[38;5;241m=\u001b[39m \u001b[38;5;28mself\u001b[39m\u001b[38;5;241m.\u001b[39mprojector(dec, psi, phi, cross\u001b[38;5;241m=\u001b[39mcross, plus\u001b[38;5;241m=\u001b[39mplus)\n",
      "File \u001b[0;32m~/miniconda3/envs/amplfi/lib/python3.10/site-packages/torch/nn/modules/module.py:1553\u001b[0m, in \u001b[0;36mModule._wrapped_call_impl\u001b[0;34m(self, *args, **kwargs)\u001b[0m\n\u001b[1;32m   1551\u001b[0m     \u001b[38;5;28;01mreturn\u001b[39;00m \u001b[38;5;28mself\u001b[39m\u001b[38;5;241m.\u001b[39m_compiled_call_impl(\u001b[38;5;241m*\u001b[39margs, \u001b[38;5;241m*\u001b[39m\u001b[38;5;241m*\u001b[39mkwargs)  \u001b[38;5;66;03m# type: ignore[misc]\u001b[39;00m\n\u001b[1;32m   1552\u001b[0m \u001b[38;5;28;01melse\u001b[39;00m:\n\u001b[0;32m-> 1553\u001b[0m     \u001b[38;5;28;01mreturn\u001b[39;00m \u001b[38;5;28;43mself\u001b[39;49m\u001b[38;5;241;43m.\u001b[39;49m\u001b[43m_call_impl\u001b[49m\u001b[43m(\u001b[49m\u001b[38;5;241;43m*\u001b[39;49m\u001b[43margs\u001b[49m\u001b[43m,\u001b[49m\u001b[43m \u001b[49m\u001b[38;5;241;43m*\u001b[39;49m\u001b[38;5;241;43m*\u001b[39;49m\u001b[43mkwargs\u001b[49m\u001b[43m)\u001b[49m\n",
      "File \u001b[0;32m~/miniconda3/envs/amplfi/lib/python3.10/site-packages/torch/nn/modules/module.py:1562\u001b[0m, in \u001b[0;36mModule._call_impl\u001b[0;34m(self, *args, **kwargs)\u001b[0m\n\u001b[1;32m   1557\u001b[0m \u001b[38;5;66;03m# If we don't have any hooks, we want to skip the rest of the logic in\u001b[39;00m\n\u001b[1;32m   1558\u001b[0m \u001b[38;5;66;03m# this function, and just call forward.\u001b[39;00m\n\u001b[1;32m   1559\u001b[0m \u001b[38;5;28;01mif\u001b[39;00m \u001b[38;5;129;01mnot\u001b[39;00m (\u001b[38;5;28mself\u001b[39m\u001b[38;5;241m.\u001b[39m_backward_hooks \u001b[38;5;129;01mor\u001b[39;00m \u001b[38;5;28mself\u001b[39m\u001b[38;5;241m.\u001b[39m_backward_pre_hooks \u001b[38;5;129;01mor\u001b[39;00m \u001b[38;5;28mself\u001b[39m\u001b[38;5;241m.\u001b[39m_forward_hooks \u001b[38;5;129;01mor\u001b[39;00m \u001b[38;5;28mself\u001b[39m\u001b[38;5;241m.\u001b[39m_forward_pre_hooks\n\u001b[1;32m   1560\u001b[0m         \u001b[38;5;129;01mor\u001b[39;00m _global_backward_pre_hooks \u001b[38;5;129;01mor\u001b[39;00m _global_backward_hooks\n\u001b[1;32m   1561\u001b[0m         \u001b[38;5;129;01mor\u001b[39;00m _global_forward_hooks \u001b[38;5;129;01mor\u001b[39;00m _global_forward_pre_hooks):\n\u001b[0;32m-> 1562\u001b[0m     \u001b[38;5;28;01mreturn\u001b[39;00m \u001b[43mforward_call\u001b[49m\u001b[43m(\u001b[49m\u001b[38;5;241;43m*\u001b[39;49m\u001b[43margs\u001b[49m\u001b[43m,\u001b[49m\u001b[43m \u001b[49m\u001b[38;5;241;43m*\u001b[39;49m\u001b[38;5;241;43m*\u001b[39;49m\u001b[43mkwargs\u001b[49m\u001b[43m)\u001b[49m\n\u001b[1;32m   1564\u001b[0m \u001b[38;5;28;01mtry\u001b[39;00m:\n\u001b[1;32m   1565\u001b[0m     result \u001b[38;5;241m=\u001b[39m \u001b[38;5;28;01mNone\u001b[39;00m\n",
      "File \u001b[0;32m~/Documents/ligo/amplfi/projects/train/train/augmentations.py:91\u001b[0m, in \u001b[0;36mPsdEstimator.forward\u001b[0;34m(self, X)\u001b[0m\n\u001b[1;32m     89\u001b[0m \u001b[38;5;28;01mdef\u001b[39;00m \u001b[38;5;21mforward\u001b[39m(\u001b[38;5;28mself\u001b[39m, X: Tensor) \u001b[38;5;241m-\u001b[39m\u001b[38;5;241m>\u001b[39m Tuple[Tensor, Tensor]:\n\u001b[1;32m     90\u001b[0m     splits \u001b[38;5;241m=\u001b[39m [X\u001b[38;5;241m.\u001b[39msize(\u001b[38;5;241m-\u001b[39m\u001b[38;5;241m1\u001b[39m) \u001b[38;5;241m-\u001b[39m \u001b[38;5;28mself\u001b[39m\u001b[38;5;241m.\u001b[39msize, \u001b[38;5;28mself\u001b[39m\u001b[38;5;241m.\u001b[39msize]\n\u001b[0;32m---> 91\u001b[0m     background, X \u001b[38;5;241m=\u001b[39m \u001b[43mtorch\u001b[49m\u001b[38;5;241;43m.\u001b[39;49m\u001b[43msplit\u001b[49m\u001b[43m(\u001b[49m\u001b[43mX\u001b[49m\u001b[43m,\u001b[49m\u001b[43m \u001b[49m\u001b[43msplits\u001b[49m\u001b[43m,\u001b[49m\u001b[43m \u001b[49m\u001b[43mdim\u001b[49m\u001b[38;5;241;43m=\u001b[39;49m\u001b[38;5;241;43m-\u001b[39;49m\u001b[38;5;241;43m1\u001b[39;49m\u001b[43m)\u001b[49m\n\u001b[1;32m     93\u001b[0m     \u001b[38;5;66;03m# if we have 2 batch elements in our input data,\u001b[39;00m\n\u001b[1;32m     94\u001b[0m     \u001b[38;5;66;03m# it will be assumed that the 0th element corresponds\u001b[39;00m\n\u001b[1;32m     95\u001b[0m     \u001b[38;5;66;03m# to true background and the 1th element corresponds\u001b[39;00m\n\u001b[1;32m     96\u001b[0m     \u001b[38;5;66;03m# to injected data, in which case we'll only compute\u001b[39;00m\n\u001b[1;32m     97\u001b[0m     \u001b[38;5;66;03m# the background PSD on the former\u001b[39;00m\n\u001b[1;32m     98\u001b[0m     \u001b[38;5;28;01mif\u001b[39;00m X\u001b[38;5;241m.\u001b[39mndim \u001b[38;5;241m==\u001b[39m \u001b[38;5;241m3\u001b[39m \u001b[38;5;129;01mand\u001b[39;00m X\u001b[38;5;241m.\u001b[39msize(\u001b[38;5;241m0\u001b[39m) \u001b[38;5;241m==\u001b[39m \u001b[38;5;241m2\u001b[39m:\n",
      "File \u001b[0;32m~/miniconda3/envs/amplfi/lib/python3.10/site-packages/torch/functional.py:196\u001b[0m, in \u001b[0;36msplit\u001b[0;34m(tensor, split_size_or_sections, dim)\u001b[0m\n\u001b[1;32m    190\u001b[0m     \u001b[38;5;28;01mreturn\u001b[39;00m handle_torch_function(\n\u001b[1;32m    191\u001b[0m         split, (tensor,), tensor, split_size_or_sections, dim\u001b[38;5;241m=\u001b[39mdim)\n\u001b[1;32m    192\u001b[0m \u001b[38;5;66;03m# Overwriting reason:\u001b[39;00m\n\u001b[1;32m    193\u001b[0m \u001b[38;5;66;03m# This dispatches to two ATen functions depending on the type of\u001b[39;00m\n\u001b[1;32m    194\u001b[0m \u001b[38;5;66;03m# split_size_or_sections. The branching code is in _tensor.py, which we\u001b[39;00m\n\u001b[1;32m    195\u001b[0m \u001b[38;5;66;03m# call here.\u001b[39;00m\n\u001b[0;32m--> 196\u001b[0m \u001b[38;5;28;01mreturn\u001b[39;00m \u001b[43mtensor\u001b[49m\u001b[38;5;241;43m.\u001b[39;49m\u001b[43msplit\u001b[49m\u001b[43m(\u001b[49m\u001b[43msplit_size_or_sections\u001b[49m\u001b[43m,\u001b[49m\u001b[43m \u001b[49m\u001b[43mdim\u001b[49m\u001b[43m)\u001b[49m\n",
      "File \u001b[0;32m~/miniconda3/envs/amplfi/lib/python3.10/site-packages/torch/_tensor.py:917\u001b[0m, in \u001b[0;36mTensor.split\u001b[0;34m(self, split_size, dim)\u001b[0m\n\u001b[1;32m    915\u001b[0m     \u001b[38;5;28;01mreturn\u001b[39;00m torch\u001b[38;5;241m.\u001b[39m_VF\u001b[38;5;241m.\u001b[39msplit(\u001b[38;5;28mself\u001b[39m, split_size, dim)  \u001b[38;5;66;03m# type: ignore[attr-defined]\u001b[39;00m\n\u001b[1;32m    916\u001b[0m \u001b[38;5;28;01melse\u001b[39;00m:\n\u001b[0;32m--> 917\u001b[0m     \u001b[38;5;28;01mreturn\u001b[39;00m \u001b[43mtorch\u001b[49m\u001b[38;5;241;43m.\u001b[39;49m\u001b[43m_VF\u001b[49m\u001b[38;5;241;43m.\u001b[39;49m\u001b[43msplit_with_sizes\u001b[49m\u001b[43m(\u001b[49m\u001b[38;5;28;43mself\u001b[39;49m\u001b[43m,\u001b[49m\u001b[43m \u001b[49m\u001b[43msplit_size\u001b[49m\u001b[43m,\u001b[49m\u001b[43m \u001b[49m\u001b[43mdim\u001b[49m\u001b[43m)\u001b[49m\n",
      "\u001b[0;31mRuntimeError\u001b[0m: split_with_sizes expects split_sizes have only non-negative entries, but got split_sizes=[-7790, 8192]"
     ]
    }
   ],
   "source": [
    "# make tensors in x same length as cross tensor\n",
    "[X] = X[:, :, :cross.shape[-1]]\n",
    "strain, parameters = datamodule.inject(X, cross, plus, parameters)"
   ]
  },
  {
   "cell_type": "code",
   "execution_count": null,
   "metadata": {},
   "outputs": [],
   "source": [
    "# cross, plus, parameters = datamodule.waveform_sampler.get_val_waveforms(rank, world_size)\n",
    "# background = background[:][:len(cross[0])]\n",
    "# datamodule.inject(background, cross, plus, parameters)"
   ]
  }
 ],
 "metadata": {
  "kernelspec": {
   "display_name": "amplfi",
   "language": "python",
   "name": "python3"
  },
  "language_info": {
   "codemirror_mode": {
    "name": "ipython",
    "version": 3
   },
   "file_extension": ".py",
   "mimetype": "text/x-python",
   "name": "python",
   "nbconvert_exporter": "python",
   "pygments_lexer": "ipython3",
   "version": "3.10.14"
  }
 },
 "nbformat": 4,
 "nbformat_minor": 2
}
