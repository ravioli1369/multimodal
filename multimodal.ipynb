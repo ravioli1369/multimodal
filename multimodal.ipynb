{
 "cells": [
  {
   "cell_type": "code",
   "execution_count": 61,
   "metadata": {},
   "outputs": [],
   "source": [
    "import os\n",
    "import torch\n",
    "import train\n",
    "import ml4gw\n",
    "import train.priors\n",
    "import train.data.datasets.flow\n",
    "import train.data.waveforms.generator.cbc\n",
    "import ml4gw.waveforms \n",
    "import ml4gw.distributions\n",
    "import ml4gw.transforms\n",
    "import ml4gw.dataloading\n",
    "from pathlib import Path"
   ]
  },
  {
   "cell_type": "code",
   "execution_count": 78,
   "metadata": {},
   "outputs": [],
   "source": [
    "dec = ml4gw.distributions.Cosine()\n",
    "psi = torch.distributions.Uniform(0, 3.14)\n",
    "phi = torch.distributions.Uniform(-3.14, 3.14)\n",
    "waveform_sampler = train.data.waveforms.generator.cbc.FrequencyDomainCBCGenerator(\n",
    "    approximant=ml4gw.waveforms.IMRPhenomD,\n",
    "    f_min=20,\n",
    "    f_max=1024,\n",
    "    waveform_arguments={'f_ref': 40},\n",
    "    num_test_waveforms=1,\n",
    "    num_val_waveforms=1,\n",
    "    parameter_sampler=train.priors.cbc_prior,\n",
    "    num_fit_params=100000,\n",
    "    inference_params=[\"chirp_mass\", \"mass_ratio\", \"distance\", \"phic\",  \"inclination\", \"dec\", \"psi\", \"phi\"],\n",
    "    sample_rate=2048,\n",
    "    dec=dec,\n",
    "    psi=psi,\n",
    "    phi=phi, \n",
    "    duration=10)\n",
    "\n",
    "datamodule = train.data.datasets.flow.FlowDataset(\n",
    "    data_dir=Path(os.environ[\"AMPLFI_DATADIR\"]),\n",
    "    inference_params=[\"chirp_mass\", \"mass_ratio\", \"distance\", \"phic\",  \"inclination\", \"dec\", \"psi\", \"phi\"],\n",
    "    highpass=25,\n",
    "    sample_rate=2048,\n",
    "    kernel_length=3,\n",
    "    fduration=1,\n",
    "    psd_length=10,\n",
    "    fftlength=2,\n",
    "    batches_per_epoch=200,\n",
    "    batch_size=512,\n",
    "    ifos=[\"H1\", \"L1\"],\n",
    "    min_valid_duration=10000.0,\n",
    "    waveform_sampler=waveform_sampler,\n",
    ")"
   ]
  },
  {
   "cell_type": "code",
   "execution_count": 79,
   "metadata": {},
   "outputs": [
    {
     "ename": "TypeError",
     "evalue": "IMRPhenomD.__init__() got an unexpected keyword argument 'f_ref'",
     "output_type": "error",
     "traceback": [
      "\u001b[0;31m---------------------------------------------------------------------------\u001b[0m",
      "\u001b[0;31mTypeError\u001b[0m                                 Traceback (most recent call last)",
      "Cell \u001b[0;32mIn[79], line 4\u001b[0m\n\u001b[1;32m      2\u001b[0m background_fname \u001b[38;5;241m=\u001b[39m [datamodule\u001b[38;5;241m.\u001b[39mtrain_fnames[\u001b[38;5;241m0\u001b[39m]]\n\u001b[1;32m      3\u001b[0m background \u001b[38;5;241m=\u001b[39m datamodule\u001b[38;5;241m.\u001b[39mload_background(background_fname)\n\u001b[0;32m----> 4\u001b[0m \u001b[43mdatamodule\u001b[49m\u001b[38;5;241;43m.\u001b[39;49m\u001b[43mwaveform_sampler\u001b[49m\u001b[38;5;241;43m.\u001b[39;49m\u001b[43mget_val_waveforms\u001b[49m\u001b[43m(\u001b[49m\u001b[43mrank\u001b[49m\u001b[43m,\u001b[49m\u001b[43m \u001b[49m\u001b[43mworld_size\u001b[49m\u001b[43m)\u001b[49m\n",
      "File \u001b[0;32m~/Documents/ligo/amplfi/projects/train/train/data/waveforms/generator/generator.py:52\u001b[0m, in \u001b[0;36mWaveformGenerator.get_val_waveforms\u001b[0;34m(self, _, world_size)\u001b[0m\n\u001b[1;32m     50\u001b[0m num_waveforms \u001b[38;5;241m=\u001b[39m \u001b[38;5;28mself\u001b[39m\u001b[38;5;241m.\u001b[39mnum_val_waveforms \u001b[38;5;241m/\u001b[39m\u001b[38;5;241m/\u001b[39m world_size\n\u001b[1;32m     51\u001b[0m parameters \u001b[38;5;241m=\u001b[39m \u001b[38;5;28mself\u001b[39m\u001b[38;5;241m.\u001b[39mparameter_sampler(num_waveforms, device\u001b[38;5;241m=\u001b[39m\u001b[38;5;124m\"\u001b[39m\u001b[38;5;124mcpu\u001b[39m\u001b[38;5;124m\"\u001b[39m)\n\u001b[0;32m---> 52\u001b[0m hc, hp \u001b[38;5;241m=\u001b[39m \u001b[38;5;28;43mself\u001b[39;49m\u001b[43m(\u001b[49m\u001b[38;5;241;43m*\u001b[39;49m\u001b[38;5;241;43m*\u001b[39;49m\u001b[43mparameters\u001b[49m\u001b[43m)\u001b[49m\n\u001b[1;32m     53\u001b[0m \u001b[38;5;28;01mreturn\u001b[39;00m hc, hp, parameters\n",
      "File \u001b[0;32m~/miniconda3/envs/amplfi/lib/python3.10/site-packages/torch/nn/modules/module.py:1553\u001b[0m, in \u001b[0;36mModule._wrapped_call_impl\u001b[0;34m(self, *args, **kwargs)\u001b[0m\n\u001b[1;32m   1551\u001b[0m     \u001b[38;5;28;01mreturn\u001b[39;00m \u001b[38;5;28mself\u001b[39m\u001b[38;5;241m.\u001b[39m_compiled_call_impl(\u001b[38;5;241m*\u001b[39margs, \u001b[38;5;241m*\u001b[39m\u001b[38;5;241m*\u001b[39mkwargs)  \u001b[38;5;66;03m# type: ignore[misc]\u001b[39;00m\n\u001b[1;32m   1552\u001b[0m \u001b[38;5;28;01melse\u001b[39;00m:\n\u001b[0;32m-> 1553\u001b[0m     \u001b[38;5;28;01mreturn\u001b[39;00m \u001b[38;5;28;43mself\u001b[39;49m\u001b[38;5;241;43m.\u001b[39;49m\u001b[43m_call_impl\u001b[49m\u001b[43m(\u001b[49m\u001b[38;5;241;43m*\u001b[39;49m\u001b[43margs\u001b[49m\u001b[43m,\u001b[49m\u001b[43m \u001b[49m\u001b[38;5;241;43m*\u001b[39;49m\u001b[38;5;241;43m*\u001b[39;49m\u001b[43mkwargs\u001b[49m\u001b[43m)\u001b[49m\n",
      "File \u001b[0;32m~/miniconda3/envs/amplfi/lib/python3.10/site-packages/torch/nn/modules/module.py:1562\u001b[0m, in \u001b[0;36mModule._call_impl\u001b[0;34m(self, *args, **kwargs)\u001b[0m\n\u001b[1;32m   1557\u001b[0m \u001b[38;5;66;03m# If we don't have any hooks, we want to skip the rest of the logic in\u001b[39;00m\n\u001b[1;32m   1558\u001b[0m \u001b[38;5;66;03m# this function, and just call forward.\u001b[39;00m\n\u001b[1;32m   1559\u001b[0m \u001b[38;5;28;01mif\u001b[39;00m \u001b[38;5;129;01mnot\u001b[39;00m (\u001b[38;5;28mself\u001b[39m\u001b[38;5;241m.\u001b[39m_backward_hooks \u001b[38;5;129;01mor\u001b[39;00m \u001b[38;5;28mself\u001b[39m\u001b[38;5;241m.\u001b[39m_backward_pre_hooks \u001b[38;5;129;01mor\u001b[39;00m \u001b[38;5;28mself\u001b[39m\u001b[38;5;241m.\u001b[39m_forward_hooks \u001b[38;5;129;01mor\u001b[39;00m \u001b[38;5;28mself\u001b[39m\u001b[38;5;241m.\u001b[39m_forward_pre_hooks\n\u001b[1;32m   1560\u001b[0m         \u001b[38;5;129;01mor\u001b[39;00m _global_backward_pre_hooks \u001b[38;5;129;01mor\u001b[39;00m _global_backward_hooks\n\u001b[1;32m   1561\u001b[0m         \u001b[38;5;129;01mor\u001b[39;00m _global_forward_hooks \u001b[38;5;129;01mor\u001b[39;00m _global_forward_pre_hooks):\n\u001b[0;32m-> 1562\u001b[0m     \u001b[38;5;28;01mreturn\u001b[39;00m \u001b[43mforward_call\u001b[49m\u001b[43m(\u001b[49m\u001b[38;5;241;43m*\u001b[39;49m\u001b[43margs\u001b[49m\u001b[43m,\u001b[49m\u001b[43m \u001b[49m\u001b[38;5;241;43m*\u001b[39;49m\u001b[38;5;241;43m*\u001b[39;49m\u001b[43mkwargs\u001b[49m\u001b[43m)\u001b[49m\n\u001b[1;32m   1564\u001b[0m \u001b[38;5;28;01mtry\u001b[39;00m:\n\u001b[1;32m   1565\u001b[0m     result \u001b[38;5;241m=\u001b[39m \u001b[38;5;28;01mNone\u001b[39;00m\n",
      "File \u001b[0;32m~/Documents/ligo/amplfi/projects/train/train/data/waveforms/generator/cbc.py:143\u001b[0m, in \u001b[0;36mFrequencyDomainCBCGenerator.forward\u001b[0;34m(self, **parameters)\u001b[0m\n\u001b[1;32m    142\u001b[0m \u001b[38;5;28;01mdef\u001b[39;00m \u001b[38;5;21mforward\u001b[39m(\u001b[38;5;28mself\u001b[39m, \u001b[38;5;241m*\u001b[39m\u001b[38;5;241m*\u001b[39mparameters):\n\u001b[0;32m--> 143\u001b[0m     hc, hp \u001b[38;5;241m=\u001b[39m \u001b[38;5;28;43mself\u001b[39;49m\u001b[38;5;241;43m.\u001b[39;49m\u001b[43mtime_domain_strain\u001b[49m\u001b[43m(\u001b[49m\u001b[38;5;241;43m*\u001b[39;49m\u001b[38;5;241;43m*\u001b[39;49m\u001b[43mparameters\u001b[49m\u001b[43m)\u001b[49m\n\u001b[1;32m    144\u001b[0m     waveforms \u001b[38;5;241m=\u001b[39m torch\u001b[38;5;241m.\u001b[39mstack([hc, hp], dim\u001b[38;5;241m=\u001b[39m\u001b[38;5;241m1\u001b[39m)\n\u001b[1;32m    145\u001b[0m     waveforms \u001b[38;5;241m=\u001b[39m \u001b[38;5;28mself\u001b[39m\u001b[38;5;241m.\u001b[39mslice_waveforms(waveforms)\n",
      "File \u001b[0;32m~/Documents/ligo/amplfi/projects/train/train/data/waveforms/generator/cbc.py:107\u001b[0m, in \u001b[0;36mFrequencyDomainCBCGenerator.time_domain_strain\u001b[0;34m(self, **parameters)\u001b[0m\n\u001b[1;32m     93\u001b[0m \u001b[38;5;250m\u001b[39m\u001b[38;5;124;03m\"\"\"\u001b[39;00m\n\u001b[1;32m     94\u001b[0m \u001b[38;5;124;03mGenerate time domain strain from a given set of parameters.\u001b[39;00m\n\u001b[1;32m     95\u001b[0m \u001b[38;5;124;03mIf waveform is in the frequency domain,\u001b[39;00m\n\u001b[0;32m   (...)\u001b[0m\n\u001b[1;32m    103\u001b[0m \u001b[38;5;124;03m        the right of the waveform in seconds\u001b[39;00m\n\u001b[1;32m    104\u001b[0m \u001b[38;5;124;03m\"\"\"\u001b[39;00m\n\u001b[1;32m    106\u001b[0m \u001b[38;5;66;03m# TODO: support time domain waveforms\u001b[39;00m\n\u001b[0;32m--> 107\u001b[0m hc, hp \u001b[38;5;241m=\u001b[39m \u001b[38;5;28;43mself\u001b[39;49m\u001b[38;5;241;43m.\u001b[39;49m\u001b[43mwaveform\u001b[49m\u001b[43m(\u001b[49m\u001b[38;5;28;43mself\u001b[39;49m\u001b[38;5;241;43m.\u001b[39;49m\u001b[43mfrequencies\u001b[49m\u001b[43m[\u001b[49m\u001b[38;5;28;43mself\u001b[39;49m\u001b[38;5;241;43m.\u001b[39;49m\u001b[43mfreq_mask\u001b[49m\u001b[43m]\u001b[49m\u001b[43m,\u001b[49m\u001b[43m \u001b[49m\u001b[38;5;241;43m*\u001b[39;49m\u001b[38;5;241;43m*\u001b[39;49m\u001b[43mparameters\u001b[49m\u001b[43m)\u001b[49m\n\u001b[1;32m    109\u001b[0m \u001b[38;5;66;03m# fourier transform\u001b[39;00m\n\u001b[1;32m    110\u001b[0m hc, hp \u001b[38;5;241m=\u001b[39m torch\u001b[38;5;241m.\u001b[39mfft\u001b[38;5;241m.\u001b[39mirfft(hc), torch\u001b[38;5;241m.\u001b[39mfft\u001b[38;5;241m.\u001b[39mirfft(hp)\n",
      "\u001b[0;31mTypeError\u001b[0m: IMRPhenomD.__init__() got an unexpected keyword argument 'f_ref'"
     ]
    }
   ],
   "source": [
    "world_size, rank = datamodule.get_world_size_and_rank()\n",
    "background_fname = [datamodule.train_fnames[0]]\n",
    "background = datamodule.load_background(background_fname)\n",
    "datamodule.waveform_sampler.get_val_waveforms(rank, world_size)"
   ]
  },
  {
   "cell_type": "code",
   "execution_count": null,
   "metadata": {},
   "outputs": [],
   "source": []
  }
 ],
 "metadata": {
  "kernelspec": {
   "display_name": "amplfi",
   "language": "python",
   "name": "python3"
  },
  "language_info": {
   "codemirror_mode": {
    "name": "ipython",
    "version": 3
   },
   "file_extension": ".py",
   "mimetype": "text/x-python",
   "name": "python",
   "nbconvert_exporter": "python",
   "pygments_lexer": "ipython3",
   "version": "3.10.14"
  }
 },
 "nbformat": 4,
 "nbformat_minor": 2
}
